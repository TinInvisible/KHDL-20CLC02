{
 "cells": [
  {
   "cell_type": "code",
   "execution_count": 11,
   "metadata": {},
   "outputs": [],
   "source": [
    "##Linear Regression:**\n",
    "#- Problem Type: Regression\n",
    "#- Purpose/Benefits: Predict a continuous target variable based on the given features. In the context of your dataset, this could mean predicting a quantitative value (e.g., GDP, life expectancy) based on various input features.\n",
    "\n",
    "## Recurrent Neural Network (RNN):\n",
    "#- Problem Type: Regression or Time Series Prediction\n",
    "#- Purpose/Benefits: RNNs are well-suited for sequential data, making them useful for time series prediction or sequence-to-sequence tasks. In your case, you might utilize an RNN to capture temporal dependencies in your data, predicting future values based on historical information."
   ]
  },
  {
   "cell_type": "code",
   "execution_count": 12,
   "metadata": {},
   "outputs": [],
   "source": [
    "import pandas as pd\n",
    "import numpy as np\n",
    "import seaborn as sn\n",
    "import json\n",
    "import geopandas\n",
    "from sklearn.model_selection import train_test_split"
   ]
  },
  {
   "cell_type": "code",
   "execution_count": 13,
   "metadata": {},
   "outputs": [
    {
     "name": "stdout",
     "output_type": "stream",
     "text": [
      "Shape: (1316, 26)\n"
     ]
    },
    {
     "data": {
      "text/html": [
       "<div>\n",
       "<style scoped>\n",
       "    .dataframe tbody tr th:only-of-type {\n",
       "        vertical-align: middle;\n",
       "    }\n",
       "\n",
       "    .dataframe tbody tr th {\n",
       "        vertical-align: top;\n",
       "    }\n",
       "\n",
       "    .dataframe thead th {\n",
       "        text-align: right;\n",
       "    }\n",
       "</style>\n",
       "<table border=\"1\" class=\"dataframe\">\n",
       "  <thead>\n",
       "    <tr style=\"text-align: right;\">\n",
       "      <th></th>\n",
       "      <th>Total Population</th>\n",
       "      <th>Female Population</th>\n",
       "      <th>Male Population</th>\n",
       "      <th>Birth Rate</th>\n",
       "      <th>Death Rate</th>\n",
       "      <th>Compulsory Education Dur.</th>\n",
       "      <th>Employment in Industry(%)</th>\n",
       "      <th>Employment in Agriculture(%)</th>\n",
       "      <th>Female Employment in Agriculture(%)</th>\n",
       "      <th>Female Employment in Industry(%)</th>\n",
       "      <th>...</th>\n",
       "      <th>Renewable Energy Consumption (%)</th>\n",
       "      <th>Fossil Fuel Consumption (%)</th>\n",
       "      <th>Male life expectancy</th>\n",
       "      <th>Female life expectancy</th>\n",
       "      <th>School enrollment, primary</th>\n",
       "      <th>School enrollment, tertiary</th>\n",
       "      <th>Primary completion rate</th>\n",
       "      <th>Literacy rate</th>\n",
       "      <th>Year</th>\n",
       "      <th>Country</th>\n",
       "    </tr>\n",
       "  </thead>\n",
       "  <tbody>\n",
       "    <tr>\n",
       "      <th>0</th>\n",
       "      <td>41128771.0</td>\n",
       "      <td>20362329.0</td>\n",
       "      <td>20766442.0</td>\n",
       "      <td>NaN</td>\n",
       "      <td>NaN</td>\n",
       "      <td>9.0</td>\n",
       "      <td>NaN</td>\n",
       "      <td>NaN</td>\n",
       "      <td>NaN</td>\n",
       "      <td>NaN</td>\n",
       "      <td>...</td>\n",
       "      <td>NaN</td>\n",
       "      <td>NaN</td>\n",
       "      <td>NaN</td>\n",
       "      <td>NaN</td>\n",
       "      <td>NaN</td>\n",
       "      <td>NaN</td>\n",
       "      <td>NaN</td>\n",
       "      <td>NaN</td>\n",
       "      <td>2022</td>\n",
       "      <td>Afghanistan</td>\n",
       "    </tr>\n",
       "    <tr>\n",
       "      <th>1</th>\n",
       "      <td>40099462.0</td>\n",
       "      <td>19844584.0</td>\n",
       "      <td>20254878.0</td>\n",
       "      <td>35.842</td>\n",
       "      <td>7.344</td>\n",
       "      <td>9.0</td>\n",
       "      <td>NaN</td>\n",
       "      <td>NaN</td>\n",
       "      <td>NaN</td>\n",
       "      <td>NaN</td>\n",
       "      <td>...</td>\n",
       "      <td>17.86</td>\n",
       "      <td>NaN</td>\n",
       "      <td>58.915</td>\n",
       "      <td>65.279</td>\n",
       "      <td>NaN</td>\n",
       "      <td>NaN</td>\n",
       "      <td>NaN</td>\n",
       "      <td>55.929401</td>\n",
       "      <td>2021</td>\n",
       "      <td>Afghanistan</td>\n",
       "    </tr>\n",
       "    <tr>\n",
       "      <th>2</th>\n",
       "      <td>38972230.0</td>\n",
       "      <td>19279930.0</td>\n",
       "      <td>19692301.0</td>\n",
       "      <td>36.051</td>\n",
       "      <td>7.113</td>\n",
       "      <td>9.0</td>\n",
       "      <td>18.48131</td>\n",
       "      <td>45.98341</td>\n",
       "      <td>53.91368</td>\n",
       "      <td>26.41834</td>\n",
       "      <td>...</td>\n",
       "      <td>17.58</td>\n",
       "      <td>NaN</td>\n",
       "      <td>59.866</td>\n",
       "      <td>65.432</td>\n",
       "      <td>NaN</td>\n",
       "      <td>10.85844</td>\n",
       "      <td>NaN</td>\n",
       "      <td>NaN</td>\n",
       "      <td>2020</td>\n",
       "      <td>Afghanistan</td>\n",
       "    </tr>\n",
       "    <tr>\n",
       "      <th>3</th>\n",
       "      <td>37769499.0</td>\n",
       "      <td>18679089.0</td>\n",
       "      <td>19090409.0</td>\n",
       "      <td>36.466</td>\n",
       "      <td>6.791</td>\n",
       "      <td>9.0</td>\n",
       "      <td>18.33941</td>\n",
       "      <td>44.51263</td>\n",
       "      <td>59.36147</td>\n",
       "      <td>24.07933</td>\n",
       "      <td>...</td>\n",
       "      <td>18.51</td>\n",
       "      <td>NaN</td>\n",
       "      <td>60.619</td>\n",
       "      <td>66.677</td>\n",
       "      <td>110.007507</td>\n",
       "      <td>NaN</td>\n",
       "      <td>86.175522</td>\n",
       "      <td>NaN</td>\n",
       "      <td>2019</td>\n",
       "      <td>Afghanistan</td>\n",
       "    </tr>\n",
       "    <tr>\n",
       "      <th>4</th>\n",
       "      <td>36686784.0</td>\n",
       "      <td>18136922.0</td>\n",
       "      <td>18549862.0</td>\n",
       "      <td>36.927</td>\n",
       "      <td>6.981</td>\n",
       "      <td>9.0</td>\n",
       "      <td>18.12015</td>\n",
       "      <td>44.39712</td>\n",
       "      <td>63.66947</td>\n",
       "      <td>23.55313</td>\n",
       "      <td>...</td>\n",
       "      <td>17.96</td>\n",
       "      <td>NaN</td>\n",
       "      <td>59.923</td>\n",
       "      <td>66.458</td>\n",
       "      <td>107.780533</td>\n",
       "      <td>9.96379</td>\n",
       "      <td>88.735519</td>\n",
       "      <td>NaN</td>\n",
       "      <td>2018</td>\n",
       "      <td>Afghanistan</td>\n",
       "    </tr>\n",
       "  </tbody>\n",
       "</table>\n",
       "<p>5 rows × 26 columns</p>\n",
       "</div>"
      ],
      "text/plain": [
       "   Total Population  Female Population  Male Population  Birth Rate   \n",
       "0        41128771.0         20362329.0       20766442.0         NaN  \\\n",
       "1        40099462.0         19844584.0       20254878.0      35.842   \n",
       "2        38972230.0         19279930.0       19692301.0      36.051   \n",
       "3        37769499.0         18679089.0       19090409.0      36.466   \n",
       "4        36686784.0         18136922.0       18549862.0      36.927   \n",
       "\n",
       "   Death Rate  Compulsory Education Dur.  Employment in Industry(%)   \n",
       "0         NaN                        9.0                        NaN  \\\n",
       "1       7.344                        9.0                        NaN   \n",
       "2       7.113                        9.0                   18.48131   \n",
       "3       6.791                        9.0                   18.33941   \n",
       "4       6.981                        9.0                   18.12015   \n",
       "\n",
       "   Employment in Agriculture(%)  Female Employment in Agriculture(%)   \n",
       "0                           NaN                                  NaN  \\\n",
       "1                           NaN                                  NaN   \n",
       "2                      45.98341                             53.91368   \n",
       "3                      44.51263                             59.36147   \n",
       "4                      44.39712                             63.66947   \n",
       "\n",
       "   Female Employment in Industry(%)  ...  Renewable Energy Consumption (%)   \n",
       "0                               NaN  ...                               NaN  \\\n",
       "1                               NaN  ...                             17.86   \n",
       "2                          26.41834  ...                             17.58   \n",
       "3                          24.07933  ...                             18.51   \n",
       "4                          23.55313  ...                             17.96   \n",
       "\n",
       "   Fossil Fuel Consumption (%)  Male life expectancy  Female life expectancy    \n",
       "0                          NaN                   NaN                      NaN  \\\n",
       "1                          NaN                58.915                   65.279   \n",
       "2                          NaN                59.866                   65.432   \n",
       "3                          NaN                60.619                   66.677   \n",
       "4                          NaN                59.923                   66.458   \n",
       "\n",
       "   School enrollment, primary  School enrollment, tertiary   \n",
       "0                         NaN                          NaN  \\\n",
       "1                         NaN                          NaN   \n",
       "2                         NaN                     10.85844   \n",
       "3                  110.007507                          NaN   \n",
       "4                  107.780533                      9.96379   \n",
       "\n",
       "   Primary completion rate  Literacy rate  Year      Country  \n",
       "0                      NaN            NaN  2022  Afghanistan  \n",
       "1                      NaN      55.929401  2021  Afghanistan  \n",
       "2                      NaN            NaN  2020  Afghanistan  \n",
       "3                86.175522            NaN  2019  Afghanistan  \n",
       "4                88.735519            NaN  2018  Afghanistan  \n",
       "\n",
       "[5 rows x 26 columns]"
      ]
     },
     "execution_count": 13,
     "metadata": {},
     "output_type": "execute_result"
    }
   ],
   "source": [
    "df = pd.read_csv('./data/data_asia.csv')\n",
    "print(f'Shape: {df.shape}')\n",
    "df.head(5)"
   ]
  },
  {
   "cell_type": "code",
   "execution_count": 14,
   "metadata": {},
   "outputs": [
    {
     "name": "stdout",
     "output_type": "stream",
     "text": [
      "<class 'pandas.core.frame.DataFrame'>\n",
      "RangeIndex: 1316 entries, 0 to 1315\n",
      "Data columns (total 26 columns):\n",
      " #   Column                                      Non-Null Count  Dtype  \n",
      "---  ------                                      --------------  -----  \n",
      " 0   Total Population                            1316 non-null   float64\n",
      " 1   Female Population                           1316 non-null   float64\n",
      " 2   Male Population                             1316 non-null   float64\n",
      " 3   Birth Rate                                  1269 non-null   float64\n",
      " 4   Death Rate                                  1269 non-null   float64\n",
      " 5   Compulsory Education Dur.                   1041 non-null   float64\n",
      " 6   Employment in Industry(%)                   1267 non-null   float64\n",
      " 7   Employment in Agriculture(%)                1267 non-null   float64\n",
      " 8   Female Employment in Agriculture(%)         1267 non-null   float64\n",
      " 9   Female Employment in Industry(%)            1267 non-null   float64\n",
      " 10  Unemployment(%)                             1311 non-null   float64\n",
      " 11  GDP in USD                                  1270 non-null   float64\n",
      " 12  National Income per Capita                  760 non-null    float64\n",
      " 13  Net income from Abroad                      1219 non-null   float64\n",
      " 14  Agriculture value added(in USD)             1215 non-null   float64\n",
      " 15  Electric Power Consumption(kWH per capita)  865 non-null    float64\n",
      " 16  Renewable Energy Consumption (%)            1226 non-null   float64\n",
      " 17  Fossil Fuel Consumption (%)                 809 non-null    float64\n",
      " 18  Male life expectancy                        1269 non-null   float64\n",
      " 19  Female life expectancy                      1269 non-null   float64\n",
      " 20  School enrollment, primary                  1001 non-null   float64\n",
      " 21  School enrollment, tertiary                 919 non-null    float64\n",
      " 22  Primary completion rate                     742 non-null    float64\n",
      " 23  Literacy rate                               267 non-null    float64\n",
      " 24  Year                                        1316 non-null   int64  \n",
      " 25  Country                                     1316 non-null   object \n",
      "dtypes: float64(24), int64(1), object(1)\n",
      "memory usage: 267.4+ KB\n"
     ]
    }
   ],
   "source": [
    "df.info()"
   ]
  },
  {
   "cell_type": "code",
   "execution_count": 15,
   "metadata": {},
   "outputs": [
    {
     "name": "stdout",
     "output_type": "stream",
     "text": [
      "Index(['Total Population', 'Female Population', 'Male Population',\n",
      "       'Birth Rate', 'Death Rate', 'Compulsory Education Dur.',\n",
      "       'Employment in Industry(%)', 'Employment in Agriculture(%)',\n",
      "       'Female Employment in Agriculture(%)',\n",
      "       'Female Employment in Industry(%)', 'Unemployment(%)', 'GDP in USD',\n",
      "       'National Income per Capita', 'Net income from Abroad',\n",
      "       'Agriculture value added(in USD)',\n",
      "       'Electric Power Consumption(kWH per capita)',\n",
      "       'Renewable Energy Consumption (%)', 'Fossil Fuel Consumption (%)',\n",
      "       'Male life expectancy', 'Female life expectancy ',\n",
      "       'School enrollment, primary', 'School enrollment, tertiary',\n",
      "       'Primary completion rate', 'Literacy rate', 'Year', 'Country'],\n",
      "      dtype='object')\n"
     ]
    }
   ],
   "source": [
    "# Hiển thị tất cả các tên cột hiện có trong DataFrame\n",
    "print(df.columns)"
   ]
  },
  {
   "cell_type": "code",
   "execution_count": 16,
   "metadata": {},
   "outputs": [],
   "source": [
    "df.drop(['Electric Power Consumption(kWH per capita)','Fossil Fuel Consumption (%)','National Income per Capita','Net income from Abroad'], axis=1, inplace=True)"
   ]
  },
  {
   "cell_type": "code",
   "execution_count": 17,
   "metadata": {},
   "outputs": [
    {
     "name": "stdout",
     "output_type": "stream",
     "text": [
      "<class 'pandas.core.frame.DataFrame'>\n",
      "RangeIndex: 1316 entries, 0 to 1315\n",
      "Data columns (total 22 columns):\n",
      " #   Column                               Non-Null Count  Dtype  \n",
      "---  ------                               --------------  -----  \n",
      " 0   Total Population                     1316 non-null   float64\n",
      " 1   Female Population                    1316 non-null   float64\n",
      " 2   Male Population                      1316 non-null   float64\n",
      " 3   Birth Rate                           1269 non-null   float64\n",
      " 4   Death Rate                           1269 non-null   float64\n",
      " 5   Compulsory Education Dur.            1041 non-null   float64\n",
      " 6   Employment in Industry(%)            1267 non-null   float64\n",
      " 7   Employment in Agriculture(%)         1267 non-null   float64\n",
      " 8   Female Employment in Agriculture(%)  1267 non-null   float64\n",
      " 9   Female Employment in Industry(%)     1267 non-null   float64\n",
      " 10  Unemployment(%)                      1311 non-null   float64\n",
      " 11  GDP in USD                           1270 non-null   float64\n",
      " 12  Agriculture value added(in USD)      1215 non-null   float64\n",
      " 13  Renewable Energy Consumption (%)     1226 non-null   float64\n",
      " 14  Male life expectancy                 1269 non-null   float64\n",
      " 15  Female life expectancy               1269 non-null   float64\n",
      " 16  School enrollment, primary           1001 non-null   float64\n",
      " 17  School enrollment, tertiary          919 non-null    float64\n",
      " 18  Primary completion rate              742 non-null    float64\n",
      " 19  Literacy rate                        267 non-null    float64\n",
      " 20  Year                                 1316 non-null   int64  \n",
      " 21  Country                              1316 non-null   object \n",
      "dtypes: float64(20), int64(1), object(1)\n",
      "memory usage: 226.3+ KB\n"
     ]
    }
   ],
   "source": [
    "# check the result\n",
    "df.info()"
   ]
  },
  {
   "cell_type": "code",
   "execution_count": 18,
   "metadata": {},
   "outputs": [
    {
     "name": "stdout",
     "output_type": "stream",
     "text": [
      "Index(['Total Population', 'Female Population', 'Male Population',\n",
      "       'Birth Rate', 'Death Rate', 'Compulsory Education Dur.',\n",
      "       'Employment in Industry(%)', 'Employment in Agriculture(%)',\n",
      "       'Female Employment in Agriculture(%)',\n",
      "       'Female Employment in Industry(%)', 'Unemployment(%)', 'GDP in USD',\n",
      "       'Agriculture value added(in USD)', 'Renewable Energy Consumption (%)',\n",
      "       'Male life expectancy', 'Female life expectancy ',\n",
      "       'School enrollment, primary', 'School enrollment, tertiary',\n",
      "       'Primary completion rate', 'Literacy rate', 'Year', 'Country'],\n",
      "      dtype='object')\n"
     ]
    }
   ],
   "source": [
    "print(df.columns)"
   ]
  },
  {
   "cell_type": "code",
   "execution_count": 19,
   "metadata": {},
   "outputs": [
    {
     "name": "stdout",
     "output_type": "stream",
     "text": [
      "<class 'pandas.core.frame.DataFrame'>\n",
      "RangeIndex: 1316 entries, 0 to 1315\n",
      "Data columns (total 22 columns):\n",
      " #   Column                               Non-Null Count  Dtype  \n",
      "---  ------                               --------------  -----  \n",
      " 0   Total Population                     1316 non-null   float64\n",
      " 1   Female Population                    1316 non-null   float64\n",
      " 2   Male Population                      1316 non-null   float64\n",
      " 3   Birth Rate                           1316 non-null   float64\n",
      " 4   Death Rate                           1316 non-null   float64\n",
      " 5   Compulsory Education Dur.            1316 non-null   float64\n",
      " 6   Employment in Industry(%)            1316 non-null   float64\n",
      " 7   Employment in Agriculture(%)         1316 non-null   float64\n",
      " 8   Female Employment in Agriculture(%)  1316 non-null   float64\n",
      " 9   Female Employment in Industry(%)     1316 non-null   float64\n",
      " 10  Unemployment(%)                      1316 non-null   float64\n",
      " 11  GDP in USD                           1316 non-null   float64\n",
      " 12  Agriculture value added(in USD)      1316 non-null   float64\n",
      " 13  Renewable Energy Consumption (%)     1316 non-null   float64\n",
      " 14  Male life expectancy                 1316 non-null   float64\n",
      " 15  Female life expectancy               1316 non-null   float64\n",
      " 16  School enrollment, primary           1316 non-null   float64\n",
      " 17  School enrollment, tertiary          1316 non-null   float64\n",
      " 18  Primary completion rate              742 non-null    float64\n",
      " 19  Literacy rate                        267 non-null    float64\n",
      " 20  Year                                 1316 non-null   int64  \n",
      " 21  Country                              1316 non-null   object \n",
      "dtypes: float64(20), int64(1), object(1)\n",
      "memory usage: 226.3+ KB\n"
     ]
    }
   ],
   "source": [
    "columns_to_fill = ['Birth Rate', 'Compulsory Education Dur.', 'GDP in USD', 'Death Rate','Employment in Industry(%)','Employment in Agriculture(%)','Female Employment in Agriculture(%)','Female Employment in Industry(%)','Unemployment(%)','Agriculture value added(in USD)','Renewable Energy Consumption (%)','Male life expectancy','Female life expectancy ','School enrollment, primary','School enrollment, tertiary','Primary completion rate']\n",
    "for column in columns_to_fill:\n",
    "    median_value = df[column].median()\n",
    "    df[column].fillna(median_value, inplace=True)\n",
    "# check the result\n",
    "df.info()"
   ]
  },
  {
   "cell_type": "code",
   "execution_count": 20,
   "metadata": {},
   "outputs": [],
   "source": [
    "df.to_csv('./data/new_data_asia.csv', index=False)"
   ]
  },
  {
   "cell_type": "code",
   "execution_count": 21,
   "metadata": {},
   "outputs": [
    {
     "name": "stdout",
     "output_type": "stream",
     "text": [
      "Training set: (1052, 5)\n",
      "Validation set: (132, 5)\n",
      "Testing set: (132, 5)\n"
     ]
    }
   ],
   "source": [
    "# Separate features (X) and target variable (y)\n",
    "X = df[['School enrollment, primary', 'School enrollment, tertiary','Primary completion rate', 'Year', 'Country']]\n",
    "y = df['Primary completion rate']\n",
    "# X = df.drop(['Country'], axis=1)  # Assuming 'Country' is the target variable\n",
    "# y = df['Country']\n",
    "\n",
    "# Split the data into training and temporary sets (80% training, 20% temporary)\n",
    "X_train_temp, X_temp, y_train_temp, y_temp = train_test_split(X, y, test_size=0.2, random_state=42)\n",
    "\n",
    "# Split the temporary set into validation and testing sets (50% each)\n",
    "X_val, X_test, y_val, y_test = train_test_split(X_temp, y_temp, test_size=0.5, random_state=42)\n",
    "\n",
    "# Display the shapes of the resulting sets\n",
    "print(f'Training set: {X_train_temp.shape}')\n",
    "print(f'Validation set: {X_val.shape}')\n",
    "print(f'Testing set: {X_test.shape}')"
   ]
  }
 ],
 "metadata": {
  "kernelspec": {
   "display_name": "Python 3.11.0 64-bit",
   "language": "python",
   "name": "python3"
  },
  "language_info": {
   "codemirror_mode": {
    "name": "ipython",
    "version": 3
   },
   "file_extension": ".py",
   "mimetype": "text/x-python",
   "name": "python",
   "nbconvert_exporter": "python",
   "pygments_lexer": "ipython3",
   "version": "3.11.0"
  },
  "vscode": {
   "interpreter": {
    "hash": "c261aea317cc0286b3b3261fbba9abdec21eaa57589985bb7a274bf54d6cc0a7"
   }
  }
 },
 "nbformat": 4,
 "nbformat_minor": 2
}
