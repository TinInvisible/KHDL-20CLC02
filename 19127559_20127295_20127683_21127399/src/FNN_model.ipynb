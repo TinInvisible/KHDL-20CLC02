{
 "cells": [
  {
   "cell_type": "code",
   "execution_count": 1,
   "metadata": {},
   "outputs": [
    {
     "name": "stdout",
     "output_type": "stream",
     "text": [
      "importing Jupyter notebook from preprocess_model.ipynb\n",
      "WARNING:tensorflow:From c:\\Python311\\Lib\\site-packages\\keras\\src\\losses.py:2976: The name tf.losses.sparse_softmax_cross_entropy is deprecated. Please use tf.compat.v1.losses.sparse_softmax_cross_entropy instead.\n",
      "\n",
      "Shape: (1316, 26)\n",
      "<class 'pandas.core.frame.DataFrame'>\n",
      "RangeIndex: 1316 entries, 0 to 1315\n",
      "Data columns (total 26 columns):\n",
      " #   Column                                      Non-Null Count  Dtype  \n",
      "---  ------                                      --------------  -----  \n",
      " 0   Total Population                            1316 non-null   float64\n",
      " 1   Female Population                           1316 non-null   float64\n",
      " 2   Male Population                             1316 non-null   float64\n",
      " 3   Birth Rate                                  1269 non-null   float64\n",
      " 4   Death Rate                                  1269 non-null   float64\n",
      " 5   Compulsory Education Dur.                   1041 non-null   float64\n",
      " 6   Employment in Industry(%)                   1267 non-null   float64\n",
      " 7   Employment in Agriculture(%)                1267 non-null   float64\n",
      " 8   Female Employment in Agriculture(%)         1267 non-null   float64\n",
      " 9   Female Employment in Industry(%)            1267 non-null   float64\n",
      " 10  Unemployment(%)                             1311 non-null   float64\n",
      " 11  GDP in USD                                  1270 non-null   float64\n",
      " 12  National Income per Capita                  760 non-null    float64\n",
      " 13  Net income from Abroad                      1219 non-null   float64\n",
      " 14  Agriculture value added(in USD)             1215 non-null   float64\n",
      " 15  Electric Power Consumption(kWH per capita)  865 non-null    float64\n",
      " 16  Renewable Energy Consumption (%)            1226 non-null   float64\n",
      " 17  Fossil Fuel Consumption (%)                 809 non-null    float64\n",
      " 18  Male life expectancy                        1269 non-null   float64\n",
      " 19  Female life expectancy                      1269 non-null   float64\n",
      " 20  School enrollment, primary                  1001 non-null   float64\n",
      " 21  School enrollment, tertiary                 919 non-null    float64\n",
      " 22  Primary completion rate                     742 non-null    float64\n",
      " 23  Literacy rate                               267 non-null    float64\n",
      " 24  Year                                        1316 non-null   int64  \n",
      " 25  Country                                     1316 non-null   object \n",
      "dtypes: float64(24), int64(1), object(1)\n",
      "memory usage: 267.4+ KB\n",
      "Index(['Total Population', 'Female Population', 'Male Population',\n",
      "       'Birth Rate', 'Death Rate', 'Compulsory Education Dur.',\n",
      "       'Employment in Industry(%)', 'Employment in Agriculture(%)',\n",
      "       'Female Employment in Agriculture(%)',\n",
      "       'Female Employment in Industry(%)', 'Unemployment(%)', 'GDP in USD',\n",
      "       'National Income per Capita', 'Net income from Abroad',\n",
      "       'Agriculture value added(in USD)',\n",
      "       'Electric Power Consumption(kWH per capita)',\n",
      "       'Renewable Energy Consumption (%)', 'Fossil Fuel Consumption (%)',\n",
      "       'Male life expectancy', 'Female life expectancy ',\n",
      "       'School enrollment, primary', 'School enrollment, tertiary',\n",
      "       'Primary completion rate', 'Literacy rate', 'Year', 'Country'],\n",
      "      dtype='object')\n",
      "<class 'pandas.core.frame.DataFrame'>\n",
      "RangeIndex: 1316 entries, 0 to 1315\n",
      "Data columns (total 22 columns):\n",
      " #   Column                               Non-Null Count  Dtype  \n",
      "---  ------                               --------------  -----  \n",
      " 0   Total Population                     1316 non-null   float64\n",
      " 1   Female Population                    1316 non-null   float64\n",
      " 2   Male Population                      1316 non-null   float64\n",
      " 3   Birth Rate                           1269 non-null   float64\n",
      " 4   Death Rate                           1269 non-null   float64\n",
      " 5   Compulsory Education Dur.            1041 non-null   float64\n",
      " 6   Employment in Industry(%)            1267 non-null   float64\n",
      " 7   Employment in Agriculture(%)         1267 non-null   float64\n",
      " 8   Female Employment in Agriculture(%)  1267 non-null   float64\n",
      " 9   Female Employment in Industry(%)     1267 non-null   float64\n",
      " 10  Unemployment(%)                      1311 non-null   float64\n",
      " 11  GDP in USD                           1270 non-null   float64\n",
      " 12  Agriculture value added(in USD)      1215 non-null   float64\n",
      " 13  Renewable Energy Consumption (%)     1226 non-null   float64\n",
      " 14  Male life expectancy                 1269 non-null   float64\n",
      " 15  Female life expectancy               1269 non-null   float64\n",
      " 16  School enrollment, primary           1001 non-null   float64\n",
      " 17  School enrollment, tertiary          919 non-null    float64\n",
      " 18  Primary completion rate              742 non-null    float64\n",
      " 19  Literacy rate                        267 non-null    float64\n",
      " 20  Year                                 1316 non-null   int64  \n",
      " 21  Country                              1316 non-null   object \n",
      "dtypes: float64(20), int64(1), object(1)\n",
      "memory usage: 226.3+ KB\n",
      "Index(['Total Population', 'Female Population', 'Male Population',\n",
      "       'Birth Rate', 'Death Rate', 'Compulsory Education Dur.',\n",
      "       'Employment in Industry(%)', 'Employment in Agriculture(%)',\n",
      "       'Female Employment in Agriculture(%)',\n",
      "       'Female Employment in Industry(%)', 'Unemployment(%)', 'GDP in USD',\n",
      "       'Agriculture value added(in USD)', 'Renewable Energy Consumption (%)',\n",
      "       'Male life expectancy', 'Female life expectancy ',\n",
      "       'School enrollment, primary', 'School enrollment, tertiary',\n",
      "       'Primary completion rate', 'Literacy rate', 'Year', 'Country'],\n",
      "      dtype='object')\n",
      "<class 'pandas.core.frame.DataFrame'>\n",
      "RangeIndex: 1316 entries, 0 to 1315\n",
      "Data columns (total 22 columns):\n",
      " #   Column                               Non-Null Count  Dtype  \n",
      "---  ------                               --------------  -----  \n",
      " 0   Total Population                     1316 non-null   float64\n",
      " 1   Female Population                    1316 non-null   float64\n",
      " 2   Male Population                      1316 non-null   float64\n",
      " 3   Birth Rate                           1316 non-null   float64\n",
      " 4   Death Rate                           1316 non-null   float64\n",
      " 5   Compulsory Education Dur.            1316 non-null   float64\n",
      " 6   Employment in Industry(%)            1316 non-null   float64\n",
      " 7   Employment in Agriculture(%)         1316 non-null   float64\n",
      " 8   Female Employment in Agriculture(%)  1316 non-null   float64\n",
      " 9   Female Employment in Industry(%)     1316 non-null   float64\n",
      " 10  Unemployment(%)                      1316 non-null   float64\n",
      " 11  GDP in USD                           1316 non-null   float64\n",
      " 12  Agriculture value added(in USD)      1316 non-null   float64\n",
      " 13  Renewable Energy Consumption (%)     1316 non-null   float64\n",
      " 14  Male life expectancy                 1316 non-null   float64\n",
      " 15  Female life expectancy               1316 non-null   float64\n",
      " 16  School enrollment, primary           1316 non-null   float64\n",
      " 17  School enrollment, tertiary          1316 non-null   float64\n",
      " 18  Primary completion rate              1316 non-null   float64\n",
      " 19  Literacy rate                        1316 non-null   float64\n",
      " 20  Year                                 1316 non-null   int64  \n",
      " 21  Country                              1316 non-null   object \n",
      "dtypes: float64(20), int64(1), object(1)\n",
      "memory usage: 226.3+ KB\n",
      "Shapes after splitting:\n",
      "X_train: (789, 5) y_train: (789,)\n",
      "X_val: (263, 5) y_val: (263,)\n",
      "X_test: (264, 5) y_test: (264,)\n"
     ]
    },
    {
     "name": "stderr",
     "output_type": "stream",
     "text": [
      "c:\\Python311\\Lib\\site-packages\\sklearn\\preprocessing\\_encoders.py:868: FutureWarning: `sparse` was renamed to `sparse_output` in version 1.2 and will be removed in 1.4. `sparse_output` is ignored unless you leave `sparse` to its default value.\n",
      "  warnings.warn(\n"
     ]
    }
   ],
   "source": [
    "import import_ipynb\n",
    "import preprocess_model as pre"
   ]
  },
  {
   "cell_type": "code",
   "execution_count": 2,
   "metadata": {},
   "outputs": [],
   "source": [
    "import pandas as pd\n",
    "import matplotlib.pyplot as plt\n",
    "from sklearn.model_selection import train_test_split\n",
    "from sklearn.preprocessing import StandardScaler, LabelEncoder\n",
    "from sklearn.linear_model import LinearRegression\n",
    "from sklearn.metrics import mean_squared_error, mean_absolute_error, r2_score\n",
    "\n",
    "from tensorflow.keras.models import Model\n",
    "from tensorflow.keras.layers import Input, Dense, Embedding, Flatten, Concatenate, Dropout\n",
    "from tensorflow.keras.optimizers import Adam"
   ]
  },
  {
   "cell_type": "code",
   "execution_count": 3,
   "metadata": {},
   "outputs": [],
   "source": [
    "df = pre.df_fnn"
   ]
  },
  {
   "cell_type": "markdown",
   "metadata": {},
   "source": [
    "\n",
    "# Define the learning rate\n"
   ]
  },
  {
   "cell_type": "code",
   "execution_count": 4,
   "metadata": {},
   "outputs": [],
   "source": [
    "learning_rate = 0.0001  "
   ]
  },
  {
   "cell_type": "markdown",
   "metadata": {},
   "source": [
    "\n",
    "# Define the model\n"
   ]
  },
  {
   "cell_type": "code",
   "execution_count": 5,
   "metadata": {},
   "outputs": [
    {
     "name": "stdout",
     "output_type": "stream",
     "text": [
      "WARNING:tensorflow:From c:\\Python311\\Lib\\site-packages\\keras\\src\\backend.py:1398: The name tf.executing_eagerly_outside_functions is deprecated. Please use tf.compat.v1.executing_eagerly_outside_functions instead.\n",
      "\n"
     ]
    }
   ],
   "source": [
    "input_layers = []\n",
    "embedding_layers = []\n",
    "\n",
    "for country in pre.Country:\n",
    "    input_layer = Input(shape=(1,), name=country)\n",
    "    embedding_layer = Embedding(input_dim=len(df[country].unique()), output_dim=10)(input_layer)\n",
    "    flatten_layer = Flatten()(embedding_layer)\n",
    "    input_layers.append(input_layer)\n",
    "    embedding_layers.append(flatten_layer)\n",
    "\n",
    "input = Input(shape=(len(pre.X_col),), name='input')\n",
    "embedding_layers.append(input)\n"
   ]
  },
  {
   "cell_type": "markdown",
   "metadata": {},
   "source": [
    "\n",
    "# Concatenate all input layers\n"
   ]
  },
  {
   "cell_type": "code",
   "execution_count": 6,
   "metadata": {},
   "outputs": [],
   "source": [
    "concatenated = Concatenate()(embedding_layers)\n"
   ]
  },
  {
   "cell_type": "markdown",
   "metadata": {},
   "source": [
    "\n",
    "# Fully connected layers with dropout for regularization\n"
   ]
  },
  {
   "cell_type": "code",
   "execution_count": 7,
   "metadata": {},
   "outputs": [],
   "source": [
    "x = Dense(256, activation='relu')(concatenated)\n",
    "x = Dropout(0.3)(x)\n",
    "x = Dense(128, activation='relu')(x)\n",
    "x = Dropout(0.2)(x)\n",
    "x = Dense(64, activation='relu')(x)\n",
    "x = Dropout(0.2)(x)\n",
    "x = Dense(32, activation='relu')(x)\n",
    "output_layer = Dense(1, activation='linear', name='output')(x)\n"
   ]
  },
  {
   "cell_type": "markdown",
   "metadata": {},
   "source": [
    "\n",
    "# Model\n"
   ]
  },
  {
   "cell_type": "code",
   "execution_count": 8,
   "metadata": {},
   "outputs": [],
   "source": [
    "model = Model(inputs=input_layers + [input], outputs=output_layer)\n"
   ]
  },
  {
   "cell_type": "markdown",
   "metadata": {},
   "source": [
    "\n",
    "# Compile the model with Mean Squared Error loss and the specified learning rate\n"
   ]
  },
  {
   "cell_type": "code",
   "execution_count": 9,
   "metadata": {},
   "outputs": [
    {
     "name": "stderr",
     "output_type": "stream",
     "text": [
      "WARNING:absl:`lr` is deprecated in Keras optimizer, please use `learning_rate` or use the legacy optimizer, e.g.,tf.keras.optimizers.legacy.Adam.\n"
     ]
    }
   ],
   "source": [
    "model.compile(optimizer=Adam(lr=learning_rate), loss='mean_squared_error') #soft-max reg\n"
   ]
  },
  {
   "cell_type": "markdown",
   "metadata": {},
   "source": [
    "\n",
    "# Train the model for more epochs\n"
   ]
  },
  {
   "cell_type": "code",
   "execution_count": 10,
   "metadata": {},
   "outputs": [
    {
     "name": "stdout",
     "output_type": "stream",
     "text": [
      "Epoch 1/200\n",
      "WARNING:tensorflow:From c:\\Python311\\Lib\\site-packages\\keras\\src\\utils\\tf_utils.py:492: The name tf.ragged.RaggedTensorValue is deprecated. Please use tf.compat.v1.ragged.RaggedTensorValue instead.\n",
      "\n"
     ]
    },
    {
     "name": "stderr",
     "output_type": "stream",
     "text": [
      "WARNING:tensorflow:From c:\\Python311\\Lib\\site-packages\\keras\\src\\utils\\tf_utils.py:492: The name tf.ragged.RaggedTensorValue is deprecated. Please use tf.compat.v1.ragged.RaggedTensorValue instead.\n",
      "\n"
     ]
    }
   ],
   "source": [
    "history = model.fit([pre.X_train[country] for country in pre.Country] + [pre.X_train[pre.X_col]],\n",
    "                    pre.y_train, epochs=200, batch_size=64,\n",
    "                    validation_data=([pre.X_val[country] for country in pre.Country] + [pre.X_val[pre.X_col]], pre.y_val),\n",
    "                    verbose=1)\n"
   ]
  },
  {
   "cell_type": "markdown",
   "metadata": {},
   "source": [
    "\n",
    "# Evaluate the model on the test set\n"
   ]
  },
  {
   "cell_type": "code",
   "execution_count": null,
   "metadata": {},
   "outputs": [
    {
     "name": "stdout",
     "output_type": "stream",
     "text": [
      "9/9 [==============================] - 0s 4ms/step - loss: 103.6398\n",
      "Test Loss: 103.63978576660156\n"
     ]
    }
   ],
   "source": [
    "test_loss = model.evaluate([pre.X_test[country] for country in pre.Country] + [pre.X_test[pre.X_col]], pre.y_test)\n",
    "print(f'Test Loss: {test_loss}')\n"
   ]
  },
  {
   "cell_type": "markdown",
   "metadata": {},
   "source": [
    "\n",
    "# Plot the training history\n"
   ]
  },
  {
   "cell_type": "code",
   "execution_count": null,
   "metadata": {},
   "outputs": [
    {
     "data": {
      "image/png": "[encoded data removed]",
      "text/plain": [
       "<Figure size 640x480 with 1 Axes>"
      ]
     },
     "metadata": {},
     "output_type": "display_data"
    }
   ],
   "source": [
    "plt.plot(history.history['loss'], label='Training Loss')\n",
    "plt.plot(history.history['val_loss'], label='Validation Loss')\n",
    "plt.xlabel('Epoch')\n",
    "plt.ylabel('Mean Squared Error')\n",
    "plt.legend()\n",
    "plt.show()"
   ]
  },
  {
   "cell_type": "markdown",
   "metadata": {},
   "source": [
    "## Make predictions\n"
   ]
  },
  {
   "cell_type": "code",
   "execution_count": null,
   "metadata": {},
   "outputs": [
    {
     "name": "stdout",
     "output_type": "stream",
     "text": [
      "9/9 [==============================] - 0s 2ms/step\n",
      "[[89.629074]\n",
      " [91.92106 ]\n",
      " [90.99696 ]\n",
      " [90.53458 ]\n",
      " [92.01217 ]\n",
      " [89.38776 ]\n",
      " [90.76846 ]\n",
      " [88.33765 ]\n",
      " [87.24007 ]\n",
      " [88.414474]\n",
      " [88.97647 ]\n",
      " [88.20984 ]\n",
      " [87.92676 ]\n",
      " [89.29119 ]\n",
      " [89.43152 ]\n",
      " [85.713234]\n",
      " [89.23633 ]\n",
      " [88.728836]\n",
      " [88.39129 ]\n",
      " [89.99176 ]\n",
      " [85.87009 ]\n",
      " [88.827965]\n",
      " [89.26924 ]\n",
      " [88.76424 ]\n",
      " [88.30045 ]\n",
      " [89.14603 ]\n",
      " [87.30811 ]\n",
      " [90.52429 ]\n",
      " [87.76126 ]\n",
      " [91.62814 ]\n",
      " [91.76642 ]\n",
      " [89.631584]\n",
      " [88.87352 ]\n",
      " [91.48867 ]\n",
      " [90.185715]\n",
      " [89.76012 ]\n",
      " [90.774445]\n",
      " [86.95358 ]\n",
      " [89.70914 ]\n",
      " [88.225876]\n",
      " [91.81262 ]\n",
      " [88.703995]\n",
      " [88.634415]\n",
      " [88.14436 ]\n",
      " [88.17383 ]\n",
      " [88.847305]\n",
      " [89.79915 ]\n",
      " [87.6613  ]\n",
      " [87.90974 ]\n",
      " [82.72186 ]\n",
      " [90.2332  ]\n",
      " [82.76777 ]\n",
      " [90.14378 ]\n",
      " [88.572784]\n",
      " [88.31919 ]\n",
      " [88.18851 ]\n",
      " [86.23052 ]\n",
      " [87.40251 ]\n",
      " [88.20032 ]\n",
      " [86.66582 ]\n",
      " [89.93524 ]\n",
      " [90.474304]\n",
      " [90.42265 ]\n",
      " [86.22623 ]\n",
      " [87.41283 ]\n",
      " [88.75159 ]\n",
      " [89.21303 ]\n",
      " [88.155716]\n",
      " [90.20419 ]\n",
      " [91.364975]\n",
      " [89.20895 ]\n",
      " [87.90545 ]\n",
      " [89.25434 ]\n",
      " [88.47946 ]\n",
      " [87.02693 ]\n",
      " [88.92227 ]\n",
      " [85.677025]\n",
      " [88.66885 ]\n",
      " [89.14276 ]\n",
      " [89.96073 ]\n",
      " [85.50079 ]\n",
      " [89.54106 ]\n",
      " [89.319824]\n",
      " [88.08138 ]\n",
      " [89.01042 ]\n",
      " [88.273346]\n",
      " [91.386536]\n",
      " [87.34325 ]\n",
      " [85.591995]\n",
      " [88.92735 ]\n",
      " [83.19238 ]\n",
      " [88.61373 ]\n",
      " [85.5266  ]\n",
      " [90.52202 ]\n",
      " [88.94054 ]\n",
      " [88.64938 ]\n",
      " [77.82222 ]\n",
      " [88.10222 ]\n",
      " [86.15144 ]\n",
      " [87.518   ]\n",
      " [88.97369 ]\n",
      " [87.852806]\n",
      " [89.15349 ]\n",
      " [89.48305 ]\n",
      " [87.81267 ]\n",
      " [85.232056]\n",
      " [88.27261 ]\n",
      " [88.26777 ]\n",
      " [90.12251 ]\n",
      " [85.86813 ]\n",
      " [88.966   ]\n",
      " [92.370384]\n",
      " [89.86215 ]\n",
      " [88.65685 ]\n",
      " [89.18673 ]\n",
      " [90.152626]\n",
      " [75.80016 ]\n",
      " [80.93315 ]\n",
      " [89.34303 ]\n",
      " [90.75723 ]\n",
      " [70.111435]\n",
      " [87.97865 ]\n",
      " [91.17491 ]\n",
      " [86.50806 ]\n",
      " [88.86115 ]\n",
      " [89.68072 ]\n",
      " [88.99873 ]\n",
      " [83.05664 ]\n",
      " [90.79648 ]\n",
      " [89.897545]\n",
      " [87.75624 ]\n",
      " [89.62122 ]\n",
      " [69.91223 ]\n",
      " [88.33382 ]\n",
      " [89.06857 ]\n",
      " [81.54044 ]\n",
      " [87.83447 ]\n",
      " [89.01893 ]\n",
      " [87.58052 ]\n",
      " [87.44507 ]\n",
      " [91.11942 ]\n",
      " [88.156395]\n",
      " [88.874985]\n",
      " [80.95885 ]\n",
      " [91.25511 ]\n",
      " [88.03574 ]\n",
      " [86.41553 ]\n",
      " [88.03912 ]\n",
      " [89.73005 ]\n",
      " [88.65771 ]\n",
      " [86.0539  ]\n",
      " [89.0786  ]\n",
      " [90.81982 ]\n",
      " [90.72029 ]\n",
      " [84.5291  ]\n",
      " [87.12158 ]\n",
      " [90.69989 ]\n",
      " [88.925446]\n",
      " [89.279465]\n",
      " [86.19494 ]\n",
      " [89.37234 ]\n",
      " [90.45542 ]\n",
      " [88.04477 ]\n",
      " [87.02733 ]\n",
      " [87.543175]\n",
      " [88.20366 ]\n",
      " [87.4543  ]\n",
      " [82.622246]\n",
      " [89.27538 ]\n",
      " [90.63046 ]\n",
      " [91.55027 ]\n",
      " [90.13104 ]\n",
      " [89.34947 ]\n",
      " [90.217285]\n",
      " [89.40294 ]\n",
      " [88.04831 ]\n",
      " [85.80777 ]\n",
      " [88.14771 ]\n",
      " [87.48454 ]\n",
      " [90.0558  ]\n",
      " [91.59435 ]\n",
      " [89.67514 ]\n",
      " [91.16182 ]\n",
      " [89.61374 ]\n",
      " [88.88939 ]\n",
      " [88.93451 ]\n",
      " [87.81649 ]\n",
      " [88.080246]\n",
      " [89.3255  ]\n",
      " [80.41288 ]\n",
      " [87.7871  ]\n",
      " [91.77182 ]\n",
      " [90.920685]\n",
      " [89.888336]\n",
      " [89.94411 ]\n",
      " [88.778465]\n",
      " [88.87622 ]\n",
      " [90.8911  ]\n",
      " [90.43919 ]\n",
      " [86.192245]\n",
      " [88.471825]\n",
      " [89.7616  ]\n",
      " [88.60008 ]\n",
      " [88.304016]\n",
      " [88.72301 ]\n",
      " [88.129715]\n",
      " [90.27413 ]\n",
      " [89.687706]\n",
      " [89.720184]\n",
      " [89.3522  ]\n",
      " [86.584206]\n",
      " [89.63107 ]\n",
      " [89.24319 ]\n",
      " [87.70955 ]\n",
      " [85.18425 ]\n",
      " [91.69765 ]\n",
      " [85.50246 ]\n",
      " [88.85782 ]\n",
      " [87.385704]\n",
      " [88.76955 ]\n",
      " [70.2724  ]\n",
      " [88.46919 ]\n",
      " [90.08221 ]\n",
      " [86.53223 ]\n",
      " [87.9544  ]\n",
      " [84.77644 ]\n",
      " [90.10031 ]\n",
      " [88.92046 ]\n",
      " [88.884186]\n",
      " [90.83319 ]\n",
      " [90.55682 ]\n",
      " [89.9483  ]\n",
      " [89.67799 ]\n",
      " [91.2034  ]\n",
      " [88.60222 ]\n",
      " [90.84019 ]\n",
      " [90.12039 ]\n",
      " [91.58164 ]\n",
      " [90.465675]\n",
      " [89.55679 ]\n",
      " [89.1006  ]\n",
      " [89.81279 ]\n",
      " [85.362   ]\n",
      " [88.464584]\n",
      " [89.963394]\n",
      " [88.93513 ]\n",
      " [85.94829 ]\n",
      " [89.8445  ]\n",
      " [88.26875 ]\n",
      " [90.42807 ]\n",
      " [88.2239  ]\n",
      " [89.04869 ]\n",
      " [85.94621 ]\n",
      " [89.07868 ]\n",
      " [90.81758 ]\n",
      " [84.678635]\n",
      " [88.93909 ]\n",
      " [89.707825]\n",
      " [88.645615]\n",
      " [89.09129 ]\n",
      " [91.703384]\n",
      " [82.506004]\n",
      " [88.30661 ]\n",
      " [88.28346 ]]\n",
      "Mean Squared Error: 103.63978060768433\n",
      "Mean Absolute Error: 9.897225640036844\n"
     ]
    }
   ],
   "source": [
    "# test = ['School enrollment, primary', 'School enrollment, tertiary', 'Primary completion rate', 'Year', 'Country']\n",
    "# # print(df[test])\n",
    "# new_data = pd.DataFrame({\n",
    "#     'School enrollment, primary': [100.911263,100.911262512207],\n",
    "#     'School enrollment, tertiary': [28.845509  ,28.8455085754395],\n",
    "#     'Primary completion rate': [96.636715, 96.63671493530276],\n",
    "#     'Year': [2023,2023],\n",
    "#     'Country': [\"Afghanistan\", \"Japan\"],\n",
    "# })\n",
    "\n",
    "# # 100.911262512207,28.8455085754395,96.63671493530276\n",
    "# # Preprocess the new data similar to the training data\n",
    "# # Standardize numerical features\n",
    "# new_data[pre.X_col] = pre.scaler.transform(new_data[pre.X_col])\n",
    "\n",
    "# # Preprocess\n",
    "# for country in pre.Country:\n",
    "#     new_data[country] = pre.label_encoders[country].transform(new_data[country])\n",
    "\n",
    "# # # Make predictions on the new data\n",
    "# predictions_future = model.predict([new_data[country] for country in pre.Country] + [new_data[pre.X_col]])\n",
    "# print(predictions_future)\n",
    "\n",
    "predictions = model.predict([pre.X_test[country] for country in pre.Country] + [pre.X_test[pre.X_col]])\n",
    "# print(pre.y_test)\n",
    "print(predictions)\n",
    "# import seaborn as sns\n",
    "\n",
    "# sns.kdeplot(pre.y_test, label='Actual', shade=True)\n",
    "# sns.kdeplot(predictions.flatten(), label='Predicted', shade=True)\n",
    "# plt.xlabel('Literacy rate')\n",
    "# plt.ylabel('Literacy rate')\n",
    "# plt.title('Distribution of Actual vs. Predicted Literacy rate')\n",
    "# plt.show()\n",
    "# residuals = pre.y_test - predictions.flatten()\n",
    "\n",
    "# plt.scatter(pre.y_test, residuals)\n",
    "# plt.axhline(y=0, color='red', linestyle='--')\n",
    "# plt.xlabel('Actual Literacy rate')\n",
    "# plt.ylabel('Residuals')\n",
    "# plt.title('Residual Plot')\n",
    "# plt.show()\n",
    "\n",
    "\n",
    "mse = mean_squared_error(pre.y_test, predictions)\n",
    "mae = mean_absolute_error(pre.y_test, predictions)\n",
    "print(f'Mean Squared Error: {mse}')\n",
    "print(f'Mean Absolute Error: {mae}')\n"
   ]
  }
 ],
 "metadata": {
  "kernelspec": {
   "display_name": "Python 3.11.0 64-bit",
   "language": "python",
   "name": "python3"
  },
  "language_info": {
   "codemirror_mode": {
    "name": "ipython",
    "version": 3
   },
   "file_extension": ".py",
   "mimetype": "text/x-python",
   "name": "python",
   "nbconvert_exporter": "python",
   "pygments_lexer": "ipython3",
   "version": "3.11.0"
  },
  "orig_nbformat": 4,
  "vscode": {
   "interpreter": {
    "hash": "c261aea317cc0286b3b3261fbba9abdec21eaa57589985bb7a274bf54d6cc0a7"
   }
  }
 },
 "nbformat": 4,
 "nbformat_minor": 2
}
