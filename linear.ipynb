{
  "cells": [
    {
      "cell_type": "code",
      "execution_count": 15,
      "metadata": {
        "id": "SUvMCNK8jqn9"
      },
      "outputs": [],
      "source": [
        "import os\n",
        "import sys\n",
        "\n",
        "module_path = os.path.abspath(os.path.join('..'))\n",
        "if module_path not in sys.path:\n",
        "    sys.path.append(module_path)\n",
        "\n",
        "import numpy as np\n",
        "import pandas as pd\n",
        "\n",
        "import matplotlib.pyplot as plt"
      ]
    },
    {
      "cell_type": "code",
      "execution_count": 30,
      "metadata": {
        "colab": {
          "base_uri": "https://localhost:8080/",
          "height": 308
        },
        "id": "AxY8B-RHjqoA",
        "outputId": "3fb0adcf-d21a-4e63-d7cc-3f853d46d8e6"
      },
      "outputs": [
        {
          "data": {
            "text/html": [
              "<div>\n",
              "<style scoped>\n",
              "    .dataframe tbody tr th:only-of-type {\n",
              "        vertical-align: middle;\n",
              "    }\n",
              "\n",
              "    .dataframe tbody tr th {\n",
              "        vertical-align: top;\n",
              "    }\n",
              "\n",
              "    .dataframe thead th {\n",
              "        text-align: right;\n",
              "    }\n",
              "</style>\n",
              "<table border=\"1\" class=\"dataframe\">\n",
              "  <thead>\n",
              "    <tr style=\"text-align: right;\">\n",
              "      <th></th>\n",
              "      <th>Total Population</th>\n",
              "      <th>Female Population</th>\n",
              "      <th>Male Population</th>\n",
              "      <th>Birth Rate</th>\n",
              "      <th>Death Rate</th>\n",
              "      <th>Compulsory Education Dur.</th>\n",
              "      <th>Employment in Industry(%)</th>\n",
              "      <th>Employment in Agriculture(%)</th>\n",
              "      <th>Female Employment in Agriculture(%)</th>\n",
              "      <th>Female Employment in Industry(%)</th>\n",
              "      <th>...</th>\n",
              "      <th>Agriculture value added(in USD)</th>\n",
              "      <th>Renewable Energy Consumption (%)</th>\n",
              "      <th>Male life expectancy</th>\n",
              "      <th>Female life expectancy</th>\n",
              "      <th>School enrollment, primary</th>\n",
              "      <th>School enrollment, tertiary</th>\n",
              "      <th>Primary completion rate</th>\n",
              "      <th>Literacy rate</th>\n",
              "      <th>Year</th>\n",
              "      <th>Country</th>\n",
              "    </tr>\n",
              "  </thead>\n",
              "  <tbody>\n",
              "    <tr>\n",
              "      <th>0</th>\n",
              "      <td>41128771.0</td>\n",
              "      <td>20362329.0</td>\n",
              "      <td>20766442.0</td>\n",
              "      <td>19.841</td>\n",
              "      <td>6.208</td>\n",
              "      <td>9.0</td>\n",
              "      <td>20.98223</td>\n",
              "      <td>29.10045</td>\n",
              "      <td>30.14557</td>\n",
              "      <td>11.87949</td>\n",
              "      <td>...</td>\n",
              "      <td>3.638505e+09</td>\n",
              "      <td>5.285</td>\n",
              "      <td>68.479</td>\n",
              "      <td>74.716</td>\n",
              "      <td>100.911263</td>\n",
              "      <td>28.845509</td>\n",
              "      <td>96.636715</td>\n",
              "      <td>NaN</td>\n",
              "      <td>2022</td>\n",
              "      <td>Afghanistan</td>\n",
              "    </tr>\n",
              "    <tr>\n",
              "      <th>1</th>\n",
              "      <td>40099462.0</td>\n",
              "      <td>19844584.0</td>\n",
              "      <td>20254878.0</td>\n",
              "      <td>35.842</td>\n",
              "      <td>7.344</td>\n",
              "      <td>9.0</td>\n",
              "      <td>20.98223</td>\n",
              "      <td>29.10045</td>\n",
              "      <td>30.14557</td>\n",
              "      <td>11.87949</td>\n",
              "      <td>...</td>\n",
              "      <td>4.883090e+09</td>\n",
              "      <td>17.860</td>\n",
              "      <td>58.915</td>\n",
              "      <td>65.279</td>\n",
              "      <td>100.911263</td>\n",
              "      <td>28.845509</td>\n",
              "      <td>96.636715</td>\n",
              "      <td>55.929401</td>\n",
              "      <td>2021</td>\n",
              "      <td>Afghanistan</td>\n",
              "    </tr>\n",
              "    <tr>\n",
              "      <th>2</th>\n",
              "      <td>38972230.0</td>\n",
              "      <td>19279930.0</td>\n",
              "      <td>19692301.0</td>\n",
              "      <td>36.051</td>\n",
              "      <td>7.113</td>\n",
              "      <td>9.0</td>\n",
              "      <td>18.48131</td>\n",
              "      <td>45.98341</td>\n",
              "      <td>53.91368</td>\n",
              "      <td>26.41834</td>\n",
              "      <td>...</td>\n",
              "      <td>5.402595e+09</td>\n",
              "      <td>17.580</td>\n",
              "      <td>59.866</td>\n",
              "      <td>65.432</td>\n",
              "      <td>100.911263</td>\n",
              "      <td>10.858440</td>\n",
              "      <td>96.636715</td>\n",
              "      <td>NaN</td>\n",
              "      <td>2020</td>\n",
              "      <td>Afghanistan</td>\n",
              "    </tr>\n",
              "    <tr>\n",
              "      <th>3</th>\n",
              "      <td>37769499.0</td>\n",
              "      <td>18679089.0</td>\n",
              "      <td>19090409.0</td>\n",
              "      <td>36.466</td>\n",
              "      <td>6.791</td>\n",
              "      <td>9.0</td>\n",
              "      <td>18.33941</td>\n",
              "      <td>44.51263</td>\n",
              "      <td>59.36147</td>\n",
              "      <td>24.07933</td>\n",
              "      <td>...</td>\n",
              "      <td>4.872441e+09</td>\n",
              "      <td>18.510</td>\n",
              "      <td>60.619</td>\n",
              "      <td>66.677</td>\n",
              "      <td>110.007507</td>\n",
              "      <td>28.845509</td>\n",
              "      <td>86.175522</td>\n",
              "      <td>NaN</td>\n",
              "      <td>2019</td>\n",
              "      <td>Afghanistan</td>\n",
              "    </tr>\n",
              "    <tr>\n",
              "      <th>4</th>\n",
              "      <td>36686784.0</td>\n",
              "      <td>18136922.0</td>\n",
              "      <td>18549862.0</td>\n",
              "      <td>36.927</td>\n",
              "      <td>6.981</td>\n",
              "      <td>9.0</td>\n",
              "      <td>18.12015</td>\n",
              "      <td>44.39712</td>\n",
              "      <td>63.66947</td>\n",
              "      <td>23.55313</td>\n",
              "      <td>...</td>\n",
              "      <td>4.060050e+09</td>\n",
              "      <td>17.960</td>\n",
              "      <td>59.923</td>\n",
              "      <td>66.458</td>\n",
              "      <td>107.780533</td>\n",
              "      <td>9.963790</td>\n",
              "      <td>88.735519</td>\n",
              "      <td>NaN</td>\n",
              "      <td>2018</td>\n",
              "      <td>Afghanistan</td>\n",
              "    </tr>\n",
              "  </tbody>\n",
              "</table>\n",
              "<p>5 rows × 22 columns</p>\n",
              "</div>"
            ],
            "text/plain": [
              "   Total Population  Female Population  Male Population  Birth Rate  \\\n",
              "0        41128771.0         20362329.0       20766442.0      19.841   \n",
              "1        40099462.0         19844584.0       20254878.0      35.842   \n",
              "2        38972230.0         19279930.0       19692301.0      36.051   \n",
              "3        37769499.0         18679089.0       19090409.0      36.466   \n",
              "4        36686784.0         18136922.0       18549862.0      36.927   \n",
              "\n",
              "   Death Rate  Compulsory Education Dur.  Employment in Industry(%)  \\\n",
              "0       6.208                        9.0                   20.98223   \n",
              "1       7.344                        9.0                   20.98223   \n",
              "2       7.113                        9.0                   18.48131   \n",
              "3       6.791                        9.0                   18.33941   \n",
              "4       6.981                        9.0                   18.12015   \n",
              "\n",
              "   Employment in Agriculture(%)  Female Employment in Agriculture(%)  \\\n",
              "0                      29.10045                             30.14557   \n",
              "1                      29.10045                             30.14557   \n",
              "2                      45.98341                             53.91368   \n",
              "3                      44.51263                             59.36147   \n",
              "4                      44.39712                             63.66947   \n",
              "\n",
              "   Female Employment in Industry(%)  ...  Agriculture value added(in USD)  \\\n",
              "0                          11.87949  ...                     3.638505e+09   \n",
              "1                          11.87949  ...                     4.883090e+09   \n",
              "2                          26.41834  ...                     5.402595e+09   \n",
              "3                          24.07933  ...                     4.872441e+09   \n",
              "4                          23.55313  ...                     4.060050e+09   \n",
              "\n",
              "   Renewable Energy Consumption (%)  Male life expectancy  \\\n",
              "0                             5.285                68.479   \n",
              "1                            17.860                58.915   \n",
              "2                            17.580                59.866   \n",
              "3                            18.510                60.619   \n",
              "4                            17.960                59.923   \n",
              "\n",
              "   Female life expectancy   School enrollment, primary  \\\n",
              "0                   74.716                  100.911263   \n",
              "1                   65.279                  100.911263   \n",
              "2                   65.432                  100.911263   \n",
              "3                   66.677                  110.007507   \n",
              "4                   66.458                  107.780533   \n",
              "\n",
              "   School enrollment, tertiary  Primary completion rate  Literacy rate  Year  \\\n",
              "0                    28.845509                96.636715            NaN  2022   \n",
              "1                    28.845509                96.636715      55.929401  2021   \n",
              "2                    10.858440                96.636715            NaN  2020   \n",
              "3                    28.845509                86.175522            NaN  2019   \n",
              "4                     9.963790                88.735519            NaN  2018   \n",
              "\n",
              "       Country  \n",
              "0  Afghanistan  \n",
              "1  Afghanistan  \n",
              "2  Afghanistan  \n",
              "3  Afghanistan  \n",
              "4  Afghanistan  \n",
              "\n",
              "[5 rows x 22 columns]"
            ]
          },
          "execution_count": 30,
          "metadata": {},
          "output_type": "execute_result"
        }
      ],
      "source": [
        "\n",
        "raw_df = pd.read_csv(\"./data/new_data_asia.csv\")\n",
        "raw_df.head()"
      ]
    },
    {
      "cell_type": "markdown",
      "metadata": {
        "id": "bvdjba6RoLgS"
      },
      "source": [
        "# training model"
      ]
    },
    {
      "cell_type": "code",
      "execution_count": 17,
      "metadata": {
        "id": "sHVS3Y2FqC5m"
      },
      "outputs": [],
      "source": [
        "from sklearn.model_selection import train_test_split\n",
        "from sklearn.linear_model import LinearRegression\n",
        "from sklearn.tree import DecisionTreeRegressor\n",
        "from sklearn.ensemble import RandomForestRegressor\n",
        "from sklearn.preprocessing import StandardScaler\n",
        "from sklearn.metrics import mean_squared_error, r2_score\n",
        "from sklearn.preprocessing import StandardScaler, LabelEncoder\n",
        "import numpy as np\n",
        "from sklearn.model_selection import learning_curve\n",
        "\n",
        "import seaborn as sns\n",
        "import matplotlib.pyplot as plt\n",
        "import itertools"
      ]
    },
    {
      "cell_type": "code",
      "execution_count": 18,
      "metadata": {
        "id": "ojO7pKQooqMi"
      },
      "outputs": [],
      "source": [
        "training_set = raw_df\n",
        "\n",
        "target = 'Literacy rate'"
      ]
    },
    {
      "cell_type": "code",
      "execution_count": 32,
      "metadata": {},
      "outputs": [],
      "source": [
        "# drop nan row data\n",
        "training_set = training_set.dropna()"
      ]
    },
    {
      "cell_type": "code",
      "execution_count": 19,
      "metadata": {
        "colab": {
          "base_uri": "https://localhost:8080/"
        },
        "id": "2_qqLFgkV5Qj",
        "outputId": "c8953245-ef0f-43fe-928a-644ae49ff4f2"
      },
      "outputs": [
        {
          "name": "stdout",
          "output_type": "stream",
          "text": [
            "Index(['Total Population', 'Female Population', 'Male Population',\n",
            "       'Birth Rate', 'Death Rate', 'Compulsory Education Dur.',\n",
            "       'Employment in Industry(%)', 'Employment in Agriculture(%)',\n",
            "       'Female Employment in Agriculture(%)',\n",
            "       'Female Employment in Industry(%)', 'Unemployment(%)', 'GDP in USD',\n",
            "       'Agriculture value added(in USD)', 'Renewable Energy Consumption (%)',\n",
            "       'Male life expectancy', 'Female life expectancy ',\n",
            "       'School enrollment, primary', 'School enrollment, tertiary',\n",
            "       'Primary completion rate', 'Literacy rate', 'Year', 'Country'],\n",
            "      dtype='object')\n"
          ]
        }
      ],
      "source": [
        "print(training_set.columns)"
      ]
    },
    {
      "cell_type": "code",
      "execution_count": 26,
      "metadata": {
        "id": "HlgBhkMhpTWF"
      },
      "outputs": [],
      "source": [
        "def evaluate_model(predictions, y_test):\n",
        "    mse = mean_squared_error(y_test, predictions)\n",
        "    r2 = r2_score(y_test, predictions)\n",
        "    print(f'Mean Squared Error: {mse}')\n",
        "    print(f'R-squared: {r2}')\n",
        "\n",
        "\n",
        "def plot_learning_curve(model, X, y, cv=None, n_jobs=None, train_sizes=np.linspace(.1, 1.0, 5)):\n",
        "    plt.figure(figsize=(10, 6))\n",
        "    plt.title(\"Learning Curve\")\n",
        "    plt.xlabel(\"Training examples\")\n",
        "    plt.ylabel(\"Score\")\n",
        "\n",
        "    train_sizes, train_scores, test_scores = learning_curve(\n",
        "        model, X, y, cv=cv, n_jobs=n_jobs, train_sizes=train_sizes, scoring='neg_mean_squared_error')\n",
        "\n",
        "    train_scores_mean = np.mean(train_scores, axis=1)\n",
        "    train_scores_std = np.std(train_scores, axis=1)\n",
        "    test_scores_mean = np.mean(test_scores, axis=1)\n",
        "    test_scores_std = np.std(test_scores, axis=1)\n",
        "\n",
        "    plt.grid()\n",
        "\n",
        "    plt.fill_between(train_sizes, train_scores_mean - train_scores_std,\n",
        "                     train_scores_mean + train_scores_std, alpha=0.1,\n",
        "                     color=\"r\")\n",
        "    plt.fill_between(train_sizes, test_scores_mean - test_scores_std,\n",
        "                     test_scores_mean + test_scores_std, alpha=0.1, color=\"g\")\n",
        "    plt.plot(train_sizes, train_scores_mean, 'o-', color=\"r\",\n",
        "             label=\"Training loss\")\n",
        "    plt.plot(train_sizes, test_scores_mean, 'o-', color=\"g\",\n",
        "             label=\"Cross-validation score\")\n",
        "\n",
        "    plt.legend(loc=\"best\")\n",
        "    return plt"
      ]
    },
    {
      "cell_type": "code",
      "execution_count": 34,
      "metadata": {
        "id": "lklkuMVtoNb-"
      },
      "outputs": [],
      "source": [
        "# preprocessing data, transform label text to int\n",
        "label_encoder = LabelEncoder()\n",
        "X = training_set.drop(target, axis=1)  # features\n",
        "X['Country'] = label_encoder.fit_transform(X['Country'])\n",
        "y = training_set[target]  # target variable\n",
        "\n",
        "# device data -> training data, testing data\n",
        "X_train, X_test, y_train, y_test = train_test_split(X, y, test_size=0.2, random_state=42)\n",
        "\n",
        "# prprocessing data to standard data\n",
        "scaler = StandardScaler()\n",
        "X_train = scaler.fit_transform(X_train)\n",
        "X_test = scaler.transform(X_test)"
      ]
    },
    {
      "cell_type": "code",
      "execution_count": 35,
      "metadata": {
        "colab": {
          "base_uri": "https://localhost:8080/",
          "height": 633
        },
        "id": "Klqc2cQ0XmPJ",
        "outputId": "e45b7511-8faf-4c44-e8e9-e3ec8c1e5a29"
      },
      "outputs": [
        {
          "name": "stdout",
          "output_type": "stream",
          "text": [
            "Linear Regression:\n",
            "Mean Squared Error: 27.403293803258343\n",
            "R-squared: 0.5566496633434844\n"
          ]
        },
        {
          "data": {
            "text/plain": [
              "<module 'matplotlib.pyplot' from 'c:\\\\Users\\\\PC\\\\AppData\\\\Local\\\\Programs\\\\Python\\\\Python311\\\\Lib\\\\site-packages\\\\matplotlib\\\\pyplot.py'>"
            ]
          },
          "execution_count": 35,
          "metadata": {},
          "output_type": "execute_result"
        },
        {
          "data": {
            "image/png": "[encoded data removed]",
            "text/plain": [
              "<Figure size 1000x600 with 1 Axes>"
            ]
          },
          "metadata": {},
          "output_type": "display_data"
        }
      ],
      "source": [
        "# Mô hình Linear Regression\n",
        "lr_model = LinearRegression()\n",
        "lr_model.fit(X_train, y_train)\n",
        "lr_predictions = lr_model.predict(X_test)\n",
        "\n",
        "print('Linear Regression:')\n",
        "evaluate_model(lr_predictions, y_test)\n",
        "\n",
        "plot_learning_curve(lr_model, X_train, y_train, cv=5)"
      ]
    }
  ],
  "metadata": {
    "colab": {
      "provenance": []
    },
    "kernelspec": {
      "display_name": "Python 3.11.0 64-bit",
      "language": "python",
      "name": "python3"
    },
    "language_info": {
      "codemirror_mode": {
        "name": "ipython",
        "version": 3
      },
      "file_extension": ".py",
      "mimetype": "text/x-python",
      "name": "python",
      "nbconvert_exporter": "python",
      "pygments_lexer": "ipython3",
      "version": "3.11.0"
    },
    "vscode": {
      "interpreter": {
        "hash": "c261aea317cc0286b3b3261fbba9abdec21eaa57589985bb7a274bf54d6cc0a7"
      }
    }
  },
  "nbformat": 4,
  "nbformat_minor": 0
}
