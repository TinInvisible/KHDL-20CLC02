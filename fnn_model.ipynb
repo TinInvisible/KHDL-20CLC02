{
 "cells": [
  {
   "cell_type": "code",
   "execution_count": 11,
   "metadata": {},
   "outputs": [],
   "source": [
    "import import_ipynb\n",
    "import preprocess_model as pre"
   ]
  },
  {
   "cell_type": "code",
   "execution_count": 12,
   "metadata": {},
   "outputs": [],
   "source": [
    "import pandas as pd\n",
    "import matplotlib.pyplot as plt\n",
    "from sklearn.model_selection import train_test_split\n",
    "from sklearn.preprocessing import StandardScaler, LabelEncoder\n",
    "from sklearn.linear_model import LinearRegression\n",
    "from sklearn.metrics import mean_squared_error, mean_absolute_error, r2_score\n",
    "\n",
    "from tensorflow.keras.models import Model\n",
    "from tensorflow.keras.layers import Input, Dense, Embedding, Flatten, Concatenate, Dropout\n",
    "from tensorflow.keras.optimizers import Adam"
   ]
  },
  {
   "cell_type": "code",
   "execution_count": 13,
   "metadata": {},
   "outputs": [],
   "source": [
    "df = pre.df_fnn"
   ]
  },
  {
   "cell_type": "markdown",
   "metadata": {},
   "source": [
    "\n",
    "# Define the learning rate\n"
   ]
  },
  {
   "cell_type": "code",
   "execution_count": null,
   "metadata": {},
   "outputs": [],
   "source": [
    "learning_rate = 0.0001  "
   ]
  },
  {
   "cell_type": "markdown",
   "metadata": {},
   "source": [
    "\n",
    "# Define the model\n"
   ]
  },
  {
   "cell_type": "code",
   "execution_count": null,
   "metadata": {},
   "outputs": [],
   "source": [
    "input_layers = []\n",
    "embedding_layers = []\n",
    "\n",
    "for country in pre.Country:\n",
    "    input_layer = Input(shape=(1,), name=country)\n",
    "    embedding_layer = Embedding(input_dim=len(df[country].unique()), output_dim=10)(input_layer)\n",
    "    flatten_layer = Flatten()(embedding_layer)\n",
    "    input_layers.append(input_layer)\n",
    "    embedding_layers.append(flatten_layer)\n",
    "\n",
    "input = Input(shape=(len(pre.X_col),), name='input')\n",
    "embedding_layers.append(input)\n"
   ]
  },
  {
   "cell_type": "markdown",
   "metadata": {},
   "source": [
    "\n",
    "# Concatenate all input layers\n"
   ]
  },
  {
   "cell_type": "code",
   "execution_count": null,
   "metadata": {},
   "outputs": [],
   "source": [
    "concatenated = Concatenate()(embedding_layers)\n"
   ]
  },
  {
   "cell_type": "markdown",
   "metadata": {},
   "source": [
    "\n",
    "# Fully connected layers with dropout for regularization\n"
   ]
  },
  {
   "cell_type": "code",
   "execution_count": null,
   "metadata": {},
   "outputs": [],
   "source": [
    "x = Dense(256, activation='relu')(concatenated)\n",
    "x = Dropout(0.3)(x)\n",
    "x = Dense(128, activation='relu')(x)\n",
    "x = Dropout(0.2)(x)\n",
    "x = Dense(64, activation='relu')(x)\n",
    "x = Dropout(0.2)(x)\n",
    "x = Dense(32, activation='relu')(x)\n",
    "output_layer = Dense(1, activation='linear', name='output')(x)\n"
   ]
  },
  {
   "cell_type": "markdown",
   "metadata": {},
   "source": [
    "\n",
    "# Model\n"
   ]
  },
  {
   "cell_type": "code",
   "execution_count": null,
   "metadata": {},
   "outputs": [],
   "source": [
    "model = Model(inputs=input_layers + [input], outputs=output_layer)\n"
   ]
  },
  {
   "cell_type": "markdown",
   "metadata": {},
   "source": [
    "\n",
    "# Compile the model with Mean Squared Error loss and the specified learning rate\n"
   ]
  },
  {
   "cell_type": "code",
   "execution_count": null,
   "metadata": {},
   "outputs": [],
   "source": [
    "model.compile(optimizer=Adam(lr=learning_rate), loss='mean_squared_error') #soft-max reg\n"
   ]
  },
  {
   "cell_type": "markdown",
   "metadata": {},
   "source": [
    "\n",
    "# Train the model for more epochs\n"
   ]
  },
  {
   "cell_type": "code",
   "execution_count": null,
   "metadata": {},
   "outputs": [],
   "source": [
    "history = model.fit([pre.X_train[country] for country in pre.Country] + [pre.X_train[pre.X_col]],\n",
    "                    pre.y_train, epochs=200, batch_size=64,\n",
    "                    validation_data=([pre.X_val[country] for country in pre.Country] + [pre.X_val[pre.X_col]], pre.y_val),\n",
    "                    verbose=1)\n"
   ]
  },
  {
   "cell_type": "markdown",
   "metadata": {},
   "source": [
    "\n",
    "# Evaluate the model on the test set\n"
   ]
  },
  {
   "cell_type": "code",
   "execution_count": null,
   "metadata": {},
   "outputs": [],
   "source": [
    "test_loss = model.evaluate([pre.X_test[country] for country in pre.Country] + [pre.X_test[pre.X_col]], pre.y_test)\n",
    "print(f'Test Loss: {test_loss}')\n"
   ]
  },
  {
   "cell_type": "markdown",
   "metadata": {},
   "source": [
    "\n",
    "# Plot the training history\n"
   ]
  },
  {
   "cell_type": "code",
   "execution_count": null,
   "metadata": {},
   "outputs": [],
   "source": [
    "plt.plot(history.history['loss'], label='Training Loss')\n",
    "plt.plot(history.history['val_loss'], label='Validation Loss')\n",
    "plt.xlabel('Epoch')\n",
    "plt.ylabel('Mean Squared Error')\n",
    "plt.legend()\n",
    "plt.show()"
   ]
  },
  {
   "cell_type": "markdown",
   "metadata": {},
   "source": [
    "## Make predictions\n"
   ]
  },
  {
   "cell_type": "code",
   "execution_count": null,
   "metadata": {},
   "outputs": [],
   "source": [
    "# test = ['School enrollment, primary', 'School enrollment, tertiary', 'Primary completion rate', 'Year', 'Country']\n",
    "# # print(df[test])\n",
    "# new_data = pd.DataFrame({\n",
    "#     'School enrollment, primary': [100.911263,100.911262512207],\n",
    "#     'School enrollment, tertiary': [28.845509  ,28.8455085754395],\n",
    "#     'Primary completion rate': [96.636715, 96.63671493530276],\n",
    "#     'Year': [2023,2023],\n",
    "#     'Country': [\"Afghanistan\", \"Japan\"],\n",
    "# })\n",
    "\n",
    "# # 100.911262512207,28.8455085754395,96.63671493530276\n",
    "# # Preprocess the new data similar to the training data\n",
    "# # Standardize numerical features\n",
    "# new_data[pre.X_col] = pre.scaler.transform(new_data[pre.X_col])\n",
    "\n",
    "# # Preprocess\n",
    "# for country in pre.Country:\n",
    "#     new_data[country] = pre.label_encoders[country].transform(new_data[country])\n",
    "\n",
    "# # # Make predictions on the new data\n",
    "# predictions_future = model.predict([new_data[country] for country in pre.Country] + [new_data[pre.X_col]])\n",
    "# print(predictions_future)\n",
    "\n",
    "predictions = model.predict([pre.X_test[country] for country in pre.Country] + [pre.X_test[pre.X_col]])\n",
    "# print(pre.y_test)\n",
    "print(predictions)\n",
    "# import seaborn as sns\n",
    "\n",
    "# sns.kdeplot(pre.y_test, label='Actual', shade=True)\n",
    "# sns.kdeplot(predictions.flatten(), label='Predicted', shade=True)\n",
    "# plt.xlabel('Literacy rate')\n",
    "# plt.ylabel('Literacy rate')\n",
    "# plt.title('Distribution of Actual vs. Predicted Literacy rate')\n",
    "# plt.show()\n",
    "# residuals = pre.y_test - predictions.flatten()\n",
    "\n",
    "# plt.scatter(pre.y_test, residuals)\n",
    "# plt.axhline(y=0, color='red', linestyle='--')\n",
    "# plt.xlabel('Actual Literacy rate')\n",
    "# plt.ylabel('Residuals')\n",
    "# plt.title('Residual Plot')\n",
    "# plt.show()\n",
    "\n",
    "\n",
    "mse = mean_squared_error(pre.y_test, predictions)\n",
    "mae = mean_absolute_error(pre.y_test, predictions)\n",
    "print(f'Mean Squared Error: {mse}')\n",
    "print(f'Mean Absolute Error: {mae}')\n"
   ]
  }
 ],
 "metadata": {
  "kernelspec": {
   "display_name": "Python 3.11.0 64-bit",
   "language": "python",
   "name": "python3"
  },
  "language_info": {
   "codemirror_mode": {
    "name": "ipython",
    "version": 3
   },
   "file_extension": ".py",
   "mimetype": "text/x-python",
   "name": "python",
   "nbconvert_exporter": "python",
   "pygments_lexer": "ipython3",
   "version": "3.11.0"
  },
  "orig_nbformat": 4,
  "vscode": {
   "interpreter": {
    "hash": "c261aea317cc0286b3b3261fbba9abdec21eaa57589985bb7a274bf54d6cc0a7"
   }
  }
 },
 "nbformat": 4,
 "nbformat_minor": 2
}
